{
  "nbformat": 4,
  "nbformat_minor": 0,
  "metadata": {
    "colab": {
      "name": "Untitled3.ipynb",
      "provenance": [],
      "authorship_tag": "ABX9TyPUsXu/5QvI53XgikJ2AytW",
      "include_colab_link": true
    },
    "kernelspec": {
      "name": "python3",
      "display_name": "Python 3"
    },
    "language_info": {
      "name": "python"
    }
  },
  "cells": [
    {
      "cell_type": "markdown",
      "metadata": {
        "id": "view-in-github",
        "colab_type": "text"
      },
      "source": [
        "<a href=\"https://colab.research.google.com/github/Andrea-Castilloo/OOP-58001/blob/main/Long_Quiz_1.ipynb\" target=\"_parent\"><img src=\"https://colab.research.google.com/assets/colab-badge.svg\" alt=\"Open In Colab\"/></a>"
      ]
    },
    {
      "cell_type": "markdown",
      "source": [
        "\n",
        "\n",
        "*  Write a Python program that asks the user to enter the radius of a circle and solve its area and perimeter.\n",
        "\n",
        "*  Create a class name Circle allowing you to build a circle with radius and pi attributes.\n",
        "\n",
        "*  Create a method Display() the perimeter and area using an instantiation of a class.\n",
        "\n",
        "*  Create a Perimeter() method to calculate the perimeter of the circle and an Area() method to calculate the area of ​​the circle.\n",
        "\n",
        "\n",
        "\n",
        "\n",
        "\n",
        "\n",
        "\n",
        "\n",
        "\n"
      ],
      "metadata": {
        "id": "HtQMTG1ie-rD"
      }
    },
    {
      "cell_type": "code",
      "source": [
        "class Circle():\n",
        "  def __init__ (self, radius):\n",
        "    self.radius = int (radius)\n",
        "\n",
        "  def Perimeter (self):\n",
        "    return 2 * pi * self.radius\n",
        "  \n",
        "  def Area (self):\n",
        "    return pi * (self.radius ** 2)\n",
        "\n",
        "  def display (self):\n",
        "    print (\"The perimeter of the circle is\", self.Perimeter())\n",
        "    print (\"The area of the circle is\", self.Area())\n",
        "\n",
        "pi = 3.14\n",
        "round= Circle (input())\n",
        "round.display()"
      ],
      "metadata": {
        "colab": {
          "base_uri": "https://localhost:8080/"
        },
        "id": "4C0JHG_3fUiT",
        "outputId": "3f2e7dae-34fc-4914-825f-b3138ba10f78"
      },
      "execution_count": 1,
      "outputs": [
        {
          "output_type": "stream",
          "name": "stdout",
          "text": [
            "18\n",
            "The perimeter of the circle is 113.04\n",
            "The area of the circle is 1017.36\n"
          ]
        }
      ]
    }
  ]
}