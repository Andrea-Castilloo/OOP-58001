{
  "nbformat": 4,
  "nbformat_minor": 0,
  "metadata": {
    "colab": {
      "name": "Untitled10.ipynb",
      "provenance": [],
      "authorship_tag": "ABX9TyMm77pmZ7Ynyaqgu7Aa//MF",
      "include_colab_link": true
    },
    "kernelspec": {
      "name": "python3",
      "display_name": "Python 3"
    },
    "language_info": {
      "name": "python"
    }
  },
  "cells": [
    {
      "cell_type": "markdown",
      "metadata": {
        "id": "view-in-github",
        "colab_type": "text"
      },
      "source": [
        "<a href=\"https://colab.research.google.com/github/Andrea-Castilloo/OOP-58001/blob/main/MIDTERM%20EXAM%20program%201.ipynb\" target=\"_parent\"><img src=\"https://colab.research.google.com/assets/colab-badge.svg\" alt=\"Open In Colab\"/></a>"
      ]
    },
    {
      "cell_type": "markdown",
      "source": [
        "PROGRAM 1"
      ],
      "metadata": {
        "id": "KdLdaK2OqeHz"
      }
    },
    {
      "cell_type": "code",
      "source": [
        "def main():\n",
        "\n",
        " class TemperatureConversion:\n",
        "\n",
        "  def init(self, temp=1):\n",
        "\n",
        "   self._temp = temp\n",
        "\n",
        " class CelsiusToFahrenheit(TemperatureConversion):\n",
        "\n",
        "  def conversion(self):\n",
        "\n",
        "   return (self._temp * 9) / 5 + 32\n",
        "\n",
        " class CelsiusToKelvin(TemperatureConversion):\n",
        "\n",
        "  def conversion(self):\n",
        "\n",
        "   return self._temp + 273.15\n",
        "\n",
        " tempInCelsius = float(input(\"Enter the temperature in Celsius: \"))\n",
        "\n",
        " convert = CelsiusToKelvin(tempInCelsius)\n",
        "\n",
        " print(str(convert.conversion()) + \" Kelvin\")\n",
        "\n",
        " convert = CelsiusToFahrenheit(tempInCelsius)\n",
        "\n",
        " print(str(convert.conversion()) + \" Fahrenheit\")\n",
        "\n",
        "\n",
        "\n",
        "\n",
        "\n",
        "main()\n",
        "\n",
        "def main1():\n",
        "\n",
        "  class ConversionTemperature:\n",
        "\n",
        "   def init(self, temp=1):\n",
        "\n",
        "    self._temp = temp\n",
        "\n",
        "  class FahrenheitToCelcius(ConversionTemperature):\n",
        "\n",
        "   def conversion(self):\n",
        "\n",
        "    return (self._temp - 32) * 5 / 9\n",
        "\n",
        "  class KelvinToCelcius(ConversionTemperature):\n",
        "\n",
        "   def conversion(self):\n",
        "\n",
        "    return self._temp - 273.15\n",
        "\n",
        "  tempInKelvin = float(input(\"Enter the temperature in Kelvin: \"))\n",
        "\n",
        "  convert = KelvinToCelcius(tempInKelvin)\n",
        "\n",
        "  print(str(convert.conversion()) + \" Celcius \")\n",
        "\n",
        "  tempInFarenheit = float(input(\"Enter the temperature in Farenheit: \"))\n",
        "\n",
        "  convert = FahrenheitToCelcius(tempInFarenheit)\n",
        "\n",
        "  print(str(convert.conversion()) + \" Celcius \")\n",
        "\n",
        "\n",
        "\n",
        "main1()"
      ],
      "metadata": {
        "id": "Ka-CARLPqy8Q"
      },
      "execution_count": null,
      "outputs": []
    }
  ]
}