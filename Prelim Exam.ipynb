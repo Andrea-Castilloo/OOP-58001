{
  "nbformat": 4,
  "nbformat_minor": 0,
  "metadata": {
    "colab": {
      "name": "Untitled6.ipynb",
      "provenance": [],
      "authorship_tag": "ABX9TyMcEbNcWhg+ZH/xr4WoQLJz",
      "include_colab_link": true
    },
    "kernelspec": {
      "name": "python3",
      "display_name": "Python 3"
    },
    "language_info": {
      "name": "python"
    }
  },
  "cells": [
    {
      "cell_type": "markdown",
      "metadata": {
        "id": "view-in-github",
        "colab_type": "text"
      },
      "source": [
        "<a href=\"https://colab.research.google.com/github/Andrea-Castilloo/OOP-58001/blob/main/Prelim%20Exam.ipynb\" target=\"_parent\"><img src=\"https://colab.research.google.com/assets/colab-badge.svg\" alt=\"Open In Colab\"/></a>"
      ]
    },
    {
      "cell_type": "markdown",
      "source": [
        "*   Write a Python to display your full name, student number, age, and course\n",
        "*   Create a class named Student with attributes: Name, Student_No, Age, School, and Course\n",
        "*   Create an object name Myself and assign an instance for each attribute.\n",
        "*   Create a method Self () using an instantiation of a class.\n",
        "*  Insert your GitHub link \"Prelim Exam\" from your repository named \"OOP 58001\"\n",
        "\n",
        "\n"
      ],
      "metadata": {
        "id": "ynrJsiwOPvSu"
      }
    },
    {
      "cell_type": "code",
      "source": [
        "class Person():\n",
        "  def __init__(self, name, age, school, ID, course):\n",
        "    self.name = name\n",
        "    self.age = age\n",
        "    self.school = school\n",
        "    self.ID = ID\n",
        "    self.course = course\n",
        "\n",
        "  def my_info():\n",
        "    name, age = \"Andrea CAstillo,\", 18\n",
        "    ID =202119092\n",
        "    school = \"Adamson University\"\n",
        "    course = \"Bachelor of Science in Computer Engineering\"\n",
        "    print(\"My name is: {} {} years old\".format(name, age))\n",
        "    print(\"My student ID:  {}\".format(ID))\n",
        "    print(\"I am currently studying in: {}\".format(school))\n",
        "    print(\"My course: {}\".format(course))\n",
        "\n",
        "  my_info()"
      ],
      "metadata": {
        "colab": {
          "base_uri": "https://localhost:8080/"
        },
        "id": "_-bD4UQfQS-u",
        "outputId": "99d4d358-1d39-46ec-97a3-fc1e6fc2a1e7"
      },
      "execution_count": 1,
      "outputs": [
        {
          "output_type": "stream",
          "name": "stdout",
          "text": [
            "My name is: Andrea CAstillo, 18 years old\n",
            "My student ID:  202119092\n",
            "I am currently studying in: Adamson University\n",
            "My course: Bachelor of Science in Computer Engineering\n"
          ]
        }
      ]
    }
  ]
}