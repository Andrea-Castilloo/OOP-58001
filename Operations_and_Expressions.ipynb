{
  "nbformat": 4,
  "nbformat_minor": 0,
  "metadata": {
    "colab": {
      "name": "Untitled1.ipynb",
      "provenance": [],
      "authorship_tag": "ABX9TyOjwlyl7PLlKvDNI4FWztFN",
      "include_colab_link": true
    },
    "kernelspec": {
      "name": "python3",
      "display_name": "Python 3"
    },
    "language_info": {
      "name": "python"
    }
  },
  "cells": [
    {
      "cell_type": "markdown",
      "metadata": {
        "id": "view-in-github",
        "colab_type": "text"
      },
      "source": [
        "<a href=\"https://colab.research.google.com/github/Andrea-Castilloo/OOP-58001/blob/main/Operations_and_Expressions.ipynb\" target=\"_parent\"><img src=\"https://colab.research.google.com/assets/colab-badge.svg\" alt=\"Open In Colab\"/></a>"
      ]
    },
    {
      "cell_type": "markdown",
      "source": [
        "Boolean Operators"
      ],
      "metadata": {
        "id": "BWDOSxiafwCn"
      }
    },
    {
      "cell_type": "code",
      "source": [
        "print(10>9)\n",
        "print(10==9)\n",
        "print(10!=9)\n",
        "print(10<9)"
      ],
      "metadata": {
        "colab": {
          "base_uri": "https://localhost:8080/"
        },
        "id": "Jy-yblCUgSNO",
        "outputId": "42cb7da3-238a-411c-859d-c5960e4eefb2"
      },
      "execution_count": 4,
      "outputs": [
        {
          "output_type": "stream",
          "name": "stdout",
          "text": [
            "True\n",
            "False\n",
            "True\n",
            "False\n"
          ]
        }
      ]
    },
    {
      "cell_type": "markdown",
      "source": [
        "bool() Function"
      ],
      "metadata": {
        "id": "MRfYAbUDig43"
      }
    },
    {
      "cell_type": "code",
      "source": [
        "print(bool(\"Maria\"))\n",
        "print(bool(19))\n",
        "print(bool([]))\n",
        "print(bool(0))\n",
        "print(bool(1))\n",
        "print(bool(None))\n",
        "print(bool(False))"
      ],
      "metadata": {
        "colab": {
          "base_uri": "https://localhost:8080/"
        },
        "id": "Uw3NGEnLijm-",
        "outputId": "ea7cfcdd-9ba8-4cfa-8d84-8d609f99a07d"
      },
      "execution_count": 5,
      "outputs": [
        {
          "output_type": "stream",
          "name": "stdout",
          "text": [
            "True\n",
            "True\n",
            "False\n",
            "False\n",
            "True\n",
            "False\n",
            "False\n"
          ]
        }
      ]
    },
    {
      "cell_type": "markdown",
      "source": [
        "Function can return a Boolean"
      ],
      "metadata": {
        "id": "iCmWul5OioxG"
      }
    },
    {
      "cell_type": "code",
      "source": [
        "def myFunction():\n",
        "  return False \n",
        "\n",
        "print(myFunction())"
      ],
      "metadata": {
        "colab": {
          "base_uri": "https://localhost:8080/"
        },
        "id": "ausTFTvRiq5e",
        "outputId": "8b926def-9401-4740-8520-ea0461264871"
      },
      "execution_count": 6,
      "outputs": [
        {
          "output_type": "stream",
          "name": "stdout",
          "text": [
            "False\n"
          ]
        }
      ]
    },
    {
      "cell_type": "code",
      "source": [
        "def myFunction():\n",
        "  return True\n",
        "\n",
        "if myFunction():\n",
        "  print(\"Yes!\")\n",
        "else:\n",
        "  print(\"No!\")"
      ],
      "metadata": {
        "colab": {
          "base_uri": "https://localhost:8080/"
        },
        "id": "wB7JZGsBoFds",
        "outputId": "71fdf4f9-8c3b-44bd-b171-1d8fc2914f1f"
      },
      "execution_count": 7,
      "outputs": [
        {
          "output_type": "stream",
          "name": "stdout",
          "text": [
            "Yes!\n"
          ]
        }
      ]
    },
    {
      "cell_type": "markdown",
      "source": [
        "Application 1"
      ],
      "metadata": {
        "id": "Ql3hfXLIoMik"
      }
    },
    {
      "cell_type": "code",
      "source": [
        "print(10>9)\n",
        "\n",
        "a=6\n",
        "b=7\n",
        "print(a==b)\n",
        "print(a!=a)"
      ],
      "metadata": {
        "colab": {
          "base_uri": "https://localhost:8080/"
        },
        "id": "2kxZovvEoNYn",
        "outputId": "cd791579-2aa5-4a13-cc03-ce2d4054cedc"
      },
      "execution_count": 8,
      "outputs": [
        {
          "output_type": "stream",
          "name": "stdout",
          "text": [
            "True\n",
            "False\n",
            "False\n"
          ]
        }
      ]
    },
    {
      "cell_type": "code",
      "source": [
        "a=60\n",
        "b=13\n",
        "print(a>b)\n",
        "\n",
        "if a<b:\n",
        "  print(\"a is less than b\")\n",
        "else:\n",
        "  print(\"a is greater than b\")"
      ],
      "metadata": {
        "colab": {
          "base_uri": "https://localhost:8080/"
        },
        "id": "K7ahKTpkoQB8",
        "outputId": "8a62ca6e-201c-4140-e68d-8297d624af20"
      },
      "execution_count": 9,
      "outputs": [
        {
          "output_type": "stream",
          "name": "stdout",
          "text": [
            "True\n",
            "a is greater than b\n"
          ]
        }
      ]
    },
    {
      "cell_type": "markdown",
      "source": [
        "Python Operators"
      ],
      "metadata": {
        "id": "feZqcWcLoUWs"
      }
    },
    {
      "cell_type": "code",
      "source": [
        "print(10+3)\n",
        "print(10-3)\n",
        "print(10*3)\n",
        "print(10%3)\n",
        "print(10/3)"
      ],
      "metadata": {
        "colab": {
          "base_uri": "https://localhost:8080/"
        },
        "id": "AK1_ev7voVZO",
        "outputId": "7f3f8057-9895-4f56-82a7-e832a3941270"
      },
      "execution_count": 10,
      "outputs": [
        {
          "output_type": "stream",
          "name": "stdout",
          "text": [
            "13\n",
            "7\n",
            "30\n",
            "1\n",
            "3.3333333333333335\n"
          ]
        }
      ]
    },
    {
      "cell_type": "markdown",
      "source": [
        "Bitwise Operators"
      ],
      "metadata": {
        "id": "iRoH48Znoekc"
      }
    },
    {
      "cell_type": "code",
      "source": [
        "# a = 60, binary 0011 1100\n",
        "# b = 13, binary 0000 1101\n",
        "\n",
        "print(a&b)\n",
        "print(a|b)\n",
        "print(a^b)\n",
        "print(a<<1)\n",
        "print(a<<2)"
      ],
      "metadata": {
        "colab": {
          "base_uri": "https://localhost:8080/"
        },
        "id": "mMjkqkDPofe8",
        "outputId": "3f7d3bc2-84f6-4c5f-94ff-d037ba545eb4"
      },
      "execution_count": 11,
      "outputs": [
        {
          "output_type": "stream",
          "name": "stdout",
          "text": [
            "12\n",
            "61\n",
            "49\n",
            "120\n",
            "240\n"
          ]
        }
      ]
    },
    {
      "cell_type": "markdown",
      "source": [
        "Application 2"
      ],
      "metadata": {
        "id": "SQhRCzbQojms"
      }
    },
    {
      "cell_type": "code",
      "source": [
        "#Assignment Operators\n",
        "x=2\n",
        "\n",
        "x+=3 #same as x=x+3\n",
        "print(x)\n",
        "\n",
        "x-=3 #same as x=x-3\n",
        "print(x)\n",
        "\n",
        "x*=3 #same as x=x*3\n",
        "print(x) \n",
        "\n",
        "x/=3 #same as x=x/3\n",
        "print(x)\n",
        "\n",
        "x%=3 #same as x=x%3\n",
        "print(x)"
      ],
      "metadata": {
        "colab": {
          "base_uri": "https://localhost:8080/"
        },
        "id": "i2FzLnw-okYE",
        "outputId": "71972bea-591d-4d9b-e08f-5f8efbd58677"
      },
      "execution_count": 12,
      "outputs": [
        {
          "output_type": "stream",
          "name": "stdout",
          "text": [
            "5\n",
            "2\n",
            "6\n",
            "2.0\n",
            "2.0\n"
          ]
        }
      ]
    },
    {
      "cell_type": "markdown",
      "source": [
        "Logical Operators"
      ],
      "metadata": {
        "id": "4PENmnI8on98"
      }
    },
    {
      "cell_type": "code",
      "source": [
        "k = True\n",
        "l = False\n",
        "print(k and l)\n",
        "print(k or l)\n",
        "print(not(k or l))"
      ],
      "metadata": {
        "colab": {
          "base_uri": "https://localhost:8080/"
        },
        "id": "OxsSRpSZoogH",
        "outputId": "8ba29067-864f-42bc-c749-1e2e8ecea7d3"
      },
      "execution_count": 13,
      "outputs": [
        {
          "output_type": "stream",
          "name": "stdout",
          "text": [
            "False\n",
            "True\n",
            "False\n"
          ]
        }
      ]
    },
    {
      "cell_type": "markdown",
      "source": [
        "Identity Operators\n",
        "\n"
      ],
      "metadata": {
        "id": "28irUetPoz-s"
      }
    },
    {
      "cell_type": "code",
      "source": [
        "k is l\n",
        "k is not l"
      ],
      "metadata": {
        "colab": {
          "base_uri": "https://localhost:8080/"
        },
        "id": "HTq3AQoto0yj",
        "outputId": "98c9577a-684f-4a8e-cdcb-e9b61e4df968"
      },
      "execution_count": 14,
      "outputs": [
        {
          "output_type": "execute_result",
          "data": {
            "text/plain": [
              "True"
            ]
          },
          "metadata": {},
          "execution_count": 14
        }
      ]
    },
    {
      "cell_type": "markdown",
      "source": [
        "# **Control Structure**"
      ],
      "metadata": {
        "id": "71dfQZsRo_79"
      }
    },
    {
      "cell_type": "markdown",
      "source": [
        "If Statements"
      ],
      "metadata": {
        "id": "jyDuCwY5pExs"
      }
    },
    {
      "cell_type": "code",
      "source": [
        "v = 2\n",
        "z = 1\n",
        "\n",
        "if 1<2:\n",
        "  print(\"1 is less than 2\")"
      ],
      "metadata": {
        "colab": {
          "base_uri": "https://localhost:8080/"
        },
        "id": "rTvTxcTRpGn2",
        "outputId": "a1573611-3a5c-4be5-a67c-2836927ccbf8"
      },
      "execution_count": 15,
      "outputs": [
        {
          "output_type": "stream",
          "name": "stdout",
          "text": [
            "1 is less than 2\n"
          ]
        }
      ]
    },
    {
      "cell_type": "markdown",
      "source": [
        "Elif Statement\n",
        "\n"
      ],
      "metadata": {
        "id": "SkZe0l46pQr0"
      }
    },
    {
      "cell_type": "code",
      "source": [
        "if v<z:\n",
        "  print(\"v is less than z\")\n",
        "elif v>z:\n",
        "  print(\"v is greater than z\")"
      ],
      "metadata": {
        "colab": {
          "base_uri": "https://localhost:8080/"
        },
        "id": "7aUVhHAdpRxE",
        "outputId": "3cae5b2d-909c-41d8-9f05-59cabb1a261a"
      },
      "execution_count": 16,
      "outputs": [
        {
          "output_type": "stream",
          "name": "stdout",
          "text": [
            "v is greater than z\n"
          ]
        }
      ]
    },
    {
      "cell_type": "markdown",
      "source": [
        "Else Statement"
      ],
      "metadata": {
        "id": "Vl-YB1ilpUfc"
      }
    },
    {
      "cell_type": "code",
      "source": [
        "number = int(input()) #to know if the number is positive or negative\n",
        "\n",
        "if number>0:\n",
        "  print(\"Positive\")\n",
        "elif number<0:\n",
        "  print(\"Negative\")\n",
        "else:\n",
        "  print(\"number is equal to zero\")"
      ],
      "metadata": {
        "id": "fmML00fqqKkc"
      },
      "execution_count": null,
      "outputs": []
    },
    {
      "cell_type": "markdown",
      "source": [
        "Application 3"
      ],
      "metadata": {
        "id": "v2FwENCbqLWT"
      }
    },
    {
      "cell_type": "code",
      "source": [
        "#Develop a Python program that will accept if the person is entitled to vote or not\n",
        "age = int(input())\n",
        "\n",
        "if age>=18:\n",
        "  print(\"You are qualified to vote\")\n",
        "else:\n",
        "  print(\"You are not qualified to vote\")"
      ],
      "metadata": {
        "id": "nh3aLItNqyPt"
      },
      "execution_count": null,
      "outputs": []
    },
    {
      "cell_type": "markdown",
      "source": [
        "Nested If...Else"
      ],
      "metadata": {
        "id": "Co7xuMmfqy0U"
      }
    },
    {
      "cell_type": "code",
      "source": [
        "u = int(input())\n",
        "if u>10:\n",
        "  print(\"u is above 10\")\n",
        "  if u>20:\n",
        "    print(\"u is above 20\")\n",
        "    if u>30:\n",
        "      print(\"u is above 30\")\n",
        "      if u>40:\n",
        "        print(\"u is above 40\")\n",
        "      else:\n",
        "        print(\"u is below 40\")\n",
        "        if u>50:\n",
        "          print(\"u is above 50\")\n",
        "        else:\n",
        "          print(\"u is below 50\")"
      ],
      "metadata": {
        "id": "R4tNSB1Kq062"
      },
      "execution_count": null,
      "outputs": []
    },
    {
      "cell_type": "markdown",
      "source": [
        "Loop Structure"
      ],
      "metadata": {
        "id": "J_wcxb9oq2vV"
      }
    },
    {
      "cell_type": "code",
      "source": [
        "week = ['Sunday', 'Monday', 'Tuesday', 'Wednesday', 'Thursday', 'Friday', 'Saturday']\n",
        "season = [\"Rainy\", \"Sunny\"]\n",
        "\n",
        "for x in week:\n",
        "  for y in season:\n",
        "    print(y,x)"
      ],
      "metadata": {
        "id": "KClRHjd6q4Vl"
      },
      "execution_count": null,
      "outputs": []
    },
    {
      "cell_type": "markdown",
      "source": [
        "Break Statement"
      ],
      "metadata": {
        "id": "iy0wpKhhq59i"
      }
    },
    {
      "cell_type": "code",
      "source": [
        "for x in week:\n",
        "  print(x)\n",
        "  if x == \"Thursday\":\n",
        "    break"
      ],
      "metadata": {
        "id": "5Hwq5DNVq7iO"
      },
      "execution_count": null,
      "outputs": []
    },
    {
      "cell_type": "markdown",
      "source": [
        "While Loop"
      ],
      "metadata": {
        "id": "DO0ndi71q86F"
      }
    },
    {
      "cell_type": "code",
      "source": [
        "i=1\n",
        "while i<6:\n",
        "  print(i)\n",
        "  i+=1"
      ],
      "metadata": {
        "id": "MLS_qRtyq-wM"
      },
      "execution_count": null,
      "outputs": []
    },
    {
      "cell_type": "markdown",
      "source": [
        "Application 4"
      ],
      "metadata": {
        "id": "DSUECvkqrAMd"
      }
    },
    {
      "cell_type": "code",
      "source": [
        "#Create a Python program that displays numbers from 1 to 4 using while loop statement\n",
        "\n",
        "n=1\n",
        "while n<5:\n",
        "  print(n)\n",
        "  n+=1"
      ],
      "metadata": {
        "id": "shFCGhdwrBcy"
      },
      "execution_count": null,
      "outputs": []
    },
    {
      "cell_type": "markdown",
      "source": [
        "Application 5"
      ],
      "metadata": {
        "id": "j5shkYyXrDH8"
      }
    },
    {
      "cell_type": "code",
      "source": [
        "#Create a Python program that displays 4 numbers using while loop and break statement\n",
        "\n",
        "r=1\n",
        "while r<=4:\n",
        "  if r==4:\n",
        "    print(r)\n",
        "  r+=1"
      ],
      "metadata": {
        "id": "xKjXuJk2rEhk"
      },
      "execution_count": null,
      "outputs": []
    }
  ]
}