{
  "nbformat": 4,
  "nbformat_minor": 0,
  "metadata": {
    "colab": {
      "name": "Untitled2.ipynb",
      "provenance": [],
      "authorship_tag": "ABX9TyPAE+/N2nzrA6EaOyRYA7rM",
      "include_colab_link": true
    },
    "kernelspec": {
      "name": "python3",
      "display_name": "Python 3"
    },
    "language_info": {
      "name": "python"
    }
  },
  "cells": [
    {
      "cell_type": "markdown",
      "metadata": {
        "id": "view-in-github",
        "colab_type": "text"
      },
      "source": [
        "<a href=\"https://colab.research.google.com/github/Andrea-Castilloo/OOP-58001/blob/main/OOP_Concepts_in_Python.ipynb\" target=\"_parent\"><img src=\"https://colab.research.google.com/assets/colab-badge.svg\" alt=\"Open In Colab\"/></a>"
      ]
    },
    {
      "cell_type": "markdown",
      "source": [
        "Create a Class"
      ],
      "metadata": {
        "id": "O_IJqajKRlRV"
      }
    },
    {
      "cell_type": "code",
      "source": [
        "class Car:\n",
        "  pass"
      ],
      "metadata": {
        "id": "H2c4-5yuRs4d"
      },
      "execution_count": null,
      "outputs": []
    },
    {
      "cell_type": "code",
      "source": [
        "class MyClass:\n",
        "  X = 40"
      ],
      "metadata": {
        "id": "fJpndCGDRykT"
      },
      "execution_count": null,
      "outputs": []
    },
    {
      "cell_type": "markdown",
      "source": [
        ""
      ],
      "metadata": {
        "id": "GDJTeteVSPm9"
      }
    },
    {
      "cell_type": "markdown",
      "source": [
        "Create an Object"
      ],
      "metadata": {
        "id": "v2nqVJ9DSPoC"
      }
    },
    {
      "cell_type": "code",
      "source": [
        "class Phone:\n",
        "  def __init__(self,name,color):\n",
        "    self.name = name\n",
        "    self.color = color\n",
        "    \n",
        "    def description(self):\n",
        "      return \"The\" + self.name + \"has a color\" + self.color\n",
        "\n",
        "      def show(self):\n",
        "        print(\"The\" + self.name + \"has a color\" + self.color)\n",
        "\n",
        "    phone1 = phone(\"Apple\", \"Black\")\n",
        "    phone1.show()"
      ],
      "metadata": {
        "id": "HGGhjbI_SQfV"
      },
      "execution_count": 2,
      "outputs": []
    },
    {
      "cell_type": "markdown",
      "source": [
        "Object Methods"
      ],
      "metadata": {
        "id": "v-cJibdvSvYF"
      }
    },
    {
      "cell_type": "code",
      "source": [
        "class Person:\n",
        "  def __init__(self,name, age):\n",
        "    self.name = name\n",
        "    self.age = age\n",
        "  def myFunction(self):\n",
        "    print(\"Hello! My name is\", self.name)\n",
        "    print(\"I am\", self.name)\n",
        "\n",
        "p1 = Person(\"Andrea\", 18)\n",
        "p1.myFunction()"
      ],
      "metadata": {
        "colab": {
          "base_uri": "https://localhost:8080/"
        },
        "id": "AejP3IsYSzEs",
        "outputId": "8c72aa5d-18c6-497c-ff7a-cc3f4c707a8c"
      },
      "execution_count": 3,
      "outputs": [
        {
          "output_type": "stream",
          "name": "stdout",
          "text": [
            "Hello! My name is Andrea\n",
            "I am Andrea\n"
          ]
        }
      ]
    },
    {
      "cell_type": "markdown",
      "source": [
        "Modify an Object Property"
      ],
      "metadata": {
        "id": "zhn9hRKES5rc"
      }
    },
    {
      "cell_type": "code",
      "source": [
        "class Phone():\n",
        "  def __init__(self,name,color):\n",
        "    self.name = name\n",
        "    self.color = color\n",
        "\n",
        "  def description(self):\n",
        "    return self.name + self.color\n",
        "\n",
        "  def show(self):\n",
        "    print(\"The name and color of the phone is\", self.description())\n",
        "\n",
        "obj1 = Phone(\"Apple\",\" Black\")\n",
        "obj1.show()"
      ],
      "metadata": {
        "colab": {
          "base_uri": "https://localhost:8080/"
        },
        "id": "-zYk9egRS6MM",
        "outputId": "d95623d1-5aab-4cfb-96be-e2699c432616"
      },
      "execution_count": 4,
      "outputs": [
        {
          "output_type": "stream",
          "name": "stdout",
          "text": [
            "The name and color of the phone is Apple Black\n"
          ]
        }
      ]
    },
    {
      "cell_type": "markdown",
      "source": [
        "Applcation 1- Write a program that computes for the Area and Perimeter of a Square, and create a class name Square with side as its attribute"
      ],
      "metadata": {
        "id": "ZujrmVkgTMTz"
      }
    },
    {
      "cell_type": "code",
      "source": [
        "#Area of a Square = s*S\n",
        "#Perimeter of a Square = 4*s = s+s+s+s\n",
        "\n",
        "class Square:\n",
        "  def __init__(self, side):\n",
        "    self.side = side\n",
        "\n",
        "  def Area(self):\n",
        "    return self.side * self.side\n",
        "\n",
        "  def Perimeter(self):\n",
        "    return 4*(self.side)\n",
        "\n",
        "  def display(self):\n",
        "    print(\"The area of a square is\", self.Area())\n",
        "    print(\"The perimeter of a square is\", self.Perimeter())\n",
        "\n",
        "sq1 = Square(2)\n",
        "sq1.display()"
      ],
      "metadata": {
        "colab": {
          "base_uri": "https://localhost:8080/"
        },
        "id": "UIYiBO1WTPu0",
        "outputId": "56442820-2040-4105-96b6-ccef3bbb7bc8"
      },
      "execution_count": 5,
      "outputs": [
        {
          "output_type": "stream",
          "name": "stdout",
          "text": [
            "The area of a square is 4\n",
            "The perimeter of a square is 8\n"
          ]
        }
      ]
    },
    {
      "cell_type": "markdown",
      "source": [
        "Application 2 - Write a Python program that displays your student no. and Fullname (Surname, First Name, MI) and create a class name OOP_58001"
      ],
      "metadata": {
        "id": "pA3XJXigTTp0"
      }
    },
    {
      "cell_type": "code",
      "source": [
        "class Person:\n",
        " def __init__(self,student,number):\n",
        "  self.student = student\n",
        "  self.number = number\n",
        "\n",
        " def myFunction(self):\n",
        "  print(\"I am\",self.student,\"and my student number is\", self.number)\n",
        "  print(\"Section - OOP_58001\")\n",
        "\n",
        "\n",
        "p1= Person(\"Castillo, Andrea\", 202119092)\n",
        "p1.myFunction()"
      ],
      "metadata": {
        "colab": {
          "base_uri": "https://localhost:8080/"
        },
        "id": "5jxsqu9JTbOT",
        "outputId": "daeb15d0-98a2-49c4-ec17-72035f0c6f62"
      },
      "execution_count": 7,
      "outputs": [
        {
          "output_type": "stream",
          "name": "stdout",
          "text": [
            "I am Castillo, Andrea and my student number is 202119092\n",
            "Section - OOP_58001\n"
          ]
        }
      ]
    }
  ]
}