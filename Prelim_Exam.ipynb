{
  "nbformat": 4,
  "nbformat_minor": 0,
  "metadata": {
    "colab": {
      "name": "Untitled4.ipynb",
      "provenance": [],
      "authorship_tag": "ABX9TyNHuNe9kkm/Uto1SStIB48G",
      "include_colab_link": true
    },
    "kernelspec": {
      "name": "python3",
      "display_name": "Python 3"
    },
    "language_info": {
      "name": "python"
    }
  },
  "cells": [
    {
      "cell_type": "markdown",
      "metadata": {
        "id": "view-in-github",
        "colab_type": "text"
      },
      "source": [
        "<a href=\"https://colab.research.google.com/github/Andrea-Castilloo/OOP-58001/blob/main/Prelim_Exam.ipynb\" target=\"_parent\"><img src=\"https://colab.research.google.com/assets/colab-badge.svg\" alt=\"Open In Colab\"/></a>"
      ]
    },
    {
      "cell_type": "markdown",
      "source": [
        "*   Write a Python to display your full name, student number, age, and course\n",
        "*   Create a class named Student with attributes: Name, Student_No, Age, School, and Course\n",
        "*   Create an object name Myself and assign an instance for each attribute.\n",
        "*   Create a method Self () using an instantiation of a class.\n",
        "\n",
        "\n",
        "\n",
        "\n",
        "\n",
        "\n",
        "\n",
        "\n",
        "\n"
      ],
      "metadata": {
        "id": "KhUS5EasI5l6"
      }
    },
    {
      "cell_type": "code",
      "source": [
        "class Student:\n",
        "    def __init__(self,Name, Student_No, Age, School, Course):\n",
        "      self.Name = Name\n",
        "      self.Student_No = Student_No\n",
        "      self.Age = Age\n",
        "      self.School = School \n",
        "      self.Course = Course\n",
        "  \n",
        "    def self(self):\n",
        "      print(\"Name: \", self.Name)\n",
        "      print(\"Student Numebr: \", self.Student_No)\n",
        "      print(\"Age: \", self.Age)\n",
        "      print(\"School: \", self.School)\n",
        "      print(\"Course: \", self.Course)\n",
        "\n",
        "Myself = Student(\"Andrea Castillo\", 202119092, 18, \"Adamson University\", \"BS in Computer Engineering\")\n",
        "Myself.self()"
      ],
      "metadata": {
        "colab": {
          "base_uri": "https://localhost:8080/"
        },
        "id": "4easeRB-Klwc",
        "outputId": "f31aaa59-56ae-4bac-936d-52a2284c3ef2"
      },
      "execution_count": 2,
      "outputs": [
        {
          "output_type": "stream",
          "name": "stdout",
          "text": [
            "Name:  Andrea Castillo\n",
            "Student Numebr:  202119092\n",
            "Age:  18\n",
            "School:  Adamson University\n",
            "Course:  BS in Computer Engineering\n"
          ]
        }
      ]
    }
  ]
}